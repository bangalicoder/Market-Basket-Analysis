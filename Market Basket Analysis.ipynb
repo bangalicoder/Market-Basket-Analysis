{
 "cells": [
  {
   "cell_type": "code",
   "execution_count": 1,
   "metadata": {},
   "outputs": [],
   "source": [
    "# Importing required packages\n",
    "import pandas as pd\n",
    "from apyori import apriori\n",
    "import numpy as np\n",
    "import matplotlib.pyplot as plt\n",
    "from itertools import combinations"
   ]
  },
  {
   "cell_type": "code",
   "execution_count": 2,
   "metadata": {},
   "outputs": [],
   "source": [
    "# Manually entering transactions\n",
    "transactions = [['beef', 'chicken', 'milk'], ['beef', 'cheese'], ['cheese', 'boots'], ['beef', 'chicken', 'cheese'],\n",
    "               ['beef', 'chicken', 'clothes', 'cheese', 'milk'], ['chicken', 'clothes', 'milk'], ['chicken', 'milk', 'clothes']]"
   ]
  },
  {
   "cell_type": "code",
   "execution_count": 3,
   "metadata": {},
   "outputs": [
    {
     "name": "stdout",
     "output_type": "stream",
     "text": [
      "['beef', 'boots', 'cheese', 'chicken', 'clothes', 'milk']\n"
     ]
    }
   ],
   "source": [
    "products = []\n",
    "for transaction in transactions:\n",
    "    for item in transaction:\n",
    "        if item not in products:\n",
    "            products.append(item)\n",
    "products.sort()\n",
    "print(products)"
   ]
  },
  {
   "cell_type": "code",
   "execution_count": 4,
   "metadata": {},
   "outputs": [],
   "source": [
    "def market_basket_analysis(transactions, min_support):\n",
    "    products = []\n",
    "    for transaction in transactions:\n",
    "        for item in transaction:\n",
    "            if item not in products:\n",
    "                products.append(item)\n",
    "    products.sort()\n",
    "    print(\"All products available in all transactions are : \", products)\n",
    "    f = {}\n",
    "    for transaction in transactions:\n",
    "        for item in transaction:\n",
    "            count = f.get(item, 0)\n",
    "            f[item] = count+1\n",
    "    f = dict(sorted(f.items()))\n",
    "    print()\n",
    "    print(\"Count of Items :\")\n",
    "    print(f)\n",
    "    c = {k:v for k,v in f.items() if v > min_support*len(transactions)}\n",
    "    print()\n",
    "    print(\"First Candidate Itemsets :\")\n",
    "    print(c)\n",
    "    products = list(c.keys())\n",
    "    i = 2\n",
    "    while len(c) > 1:\n",
    "        f = {}\n",
    "        for pair in list(combinations(products, i)):\n",
    "            count = 0\n",
    "            for transaction in transactions:\n",
    "                if all(item in transaction for item in [x for x in pair]):\n",
    "                    count += 1\n",
    "            f[pair] = count\n",
    "        c = {k:v for k,v in f.items() if v > min_support*len(transactions)}\n",
    "        if len(c)>=1:\n",
    "            w = c.copy()\n",
    "            print()\n",
    "            print(str(i)+\"-pair Candidate Itemsets :\")\n",
    "            print(c)\n",
    "        else:\n",
    "            print()\n",
    "            print(\"No further Candidate Itemsets found with minimum support = \", min_support)\n",
    "        i += 1\n",
    "    print()\n",
    "    print(\"Most associated items : \", list(w.keys()))"
   ]
  },
  {
   "cell_type": "code",
   "execution_count": 5,
   "metadata": {},
   "outputs": [
    {
     "name": "stdout",
     "output_type": "stream",
     "text": [
      "All products available in all transactions are :  ['beef', 'boots', 'cheese', 'chicken', 'clothes', 'milk']\n",
      "\n",
      "Count of Items :\n",
      "{'beef': 4, 'boots': 1, 'cheese': 4, 'chicken': 5, 'clothes': 3, 'milk': 4}\n",
      "\n",
      "First Candidate Itemsets :\n",
      "{'beef': 4, 'cheese': 4, 'chicken': 5, 'clothes': 3, 'milk': 4}\n",
      "\n",
      "2-pair Candidate Itemsets :\n",
      "{('beef', 'cheese'): 3, ('beef', 'chicken'): 3, ('chicken', 'clothes'): 3, ('chicken', 'milk'): 4, ('clothes', 'milk'): 3}\n",
      "\n",
      "3-pair Candidate Itemsets :\n",
      "{('chicken', 'clothes', 'milk'): 3}\n",
      "\n",
      "Most associated items :  [('chicken', 'clothes', 'milk')]\n"
     ]
    }
   ],
   "source": [
    "market_basket_analysis(transactions, min_support=0.3)"
   ]
  },
  {
   "cell_type": "code",
   "execution_count": 6,
   "metadata": {},
   "outputs": [],
   "source": [
    "#Now loading transactions from grocery dataset\n",
    "transactions = []\n",
    "with open(\"grocery_dataset.txt\", \"r\") as f:\n",
    "    for line in f:\n",
    "        temp = []\n",
    "        for word in line[:-1].split(\",\"):\n",
    "            temp.append(word.rstrip())\n",
    "        transactions.append(temp)\n",
    "    f.close()"
   ]
  },
  {
   "cell_type": "code",
   "execution_count": 7,
   "metadata": {},
   "outputs": [
    {
     "name": "stdout",
     "output_type": "stream",
     "text": [
      "There are total 9835 transactions in the dataset.\n"
     ]
    }
   ],
   "source": [
    "print(\"There are total {} transactions in the dataset.\".format(len(transactions)))"
   ]
  },
  {
   "cell_type": "code",
   "execution_count": 8,
   "metadata": {},
   "outputs": [
    {
     "data": {
      "image/png": "[encoded data removed]",
      "text/plain": [
       "<Figure size 432x288 with 1 Axes>"
      ]
     },
     "metadata": {
      "needs_background": "light"
     },
     "output_type": "display_data"
    }
   ],
   "source": [
    "# Distributiom of top 10 products\n",
    "products = {}\n",
    "for transaction in transactions:\n",
    "    for item in transaction:\n",
    "        mark = products.get(item, 0)\n",
    "        products[item] = mark+1\n",
    "product = pd.DataFrame(products.values(), index=products.keys(), columns = ['count'])\n",
    "product.sort_values(['count'], ascending=False, inplace=True)\n",
    "plt.bar(np.arange(10), product['count'].head(10), align='center', alpha=0.5)\n",
    "plt.xticks(np.arange(10), list(product.index)[:10], rotation='vertical')\n",
    "plt.ylabel('Item count')\n",
    "plt.title('Item sales distribution')\n",
    "plt.show()"
   ]
  },
  {
   "cell_type": "code",
   "execution_count": 9,
   "metadata": {},
   "outputs": [
    {
     "name": "stdout",
     "output_type": "stream",
     "text": [
      "There are 170 unique products purchased across all transactions in the dataset.\n"
     ]
    }
   ],
   "source": [
    "print(\"There are {} unique products purchased across all transactions in the dataset.\".format(len(products)))"
   ]
  },
  {
   "cell_type": "code",
   "execution_count": 10,
   "metadata": {},
   "outputs": [
    {
     "name": "stdout",
     "output_type": "stream",
     "text": [
      "All products available in all transactions are :  ['Instant food products', 'UHT-milk', 'abrasive cleaner', 'artif. sweetener', 'baby cosmetics', 'baby food', 'bags', 'baking powder', 'bathroom cleaner', 'beef', 'berries', 'beverages', 'bottled beer', 'bottled water', 'brandy', 'brown bread', 'butter', 'butter milk', 'cake bar', 'candles', 'candy', 'canned beer', 'canned fish', 'canned fruit', 'canned vegetables', 'cat food', 'cereals', 'chewing gum', 'chicken', 'chocolate', 'chocolate marshmallow', 'citrus fruit', 'cleaner', 'cling film/bags', 'cocoa drinks', 'coffee', 'condensed milk', 'cooking chocolate', 'cookware', 'cream', 'cream cheese', 'curd', 'curd cheese', 'decalcifier', 'dental care', 'dessert', 'detergent', 'dish cleaner', 'dishes', 'dog food', 'domestic eggs', 'female sanitary products', 'finished products', 'fish', 'flour', 'flower (seeds)', 'flower soil/fertilizer', 'frankfurter', 'frozen chicken', 'frozen dessert', 'frozen fish', 'frozen fruits', 'frozen meals', 'frozen potato products', 'frozen vegetables', 'fruit/vegetable juice', 'grapes', 'hair spray', 'ham', 'hamburger meat', 'hard cheese', 'herbs', 'honey', 'house keeping products', 'hygiene articles', 'ice cream', 'instant coffee', 'jam', 'ketchup', 'kitchen towels', 'kitchen utensil', 'light bulbs', 'liqueur', 'liquor', 'liquor (appetizer)', 'liver loaf', 'long life bakery product', 'make up remover', 'male cosmetics', 'margarine', 'mayonnaise', 'meat', 'meat spreads', 'misc. beverages', 'mustard', 'napkins', 'newspapers', 'nut snack', 'nuts/prunes', 'oil', 'onions', 'organic products', 'organic sausage', 'other vegetables', 'packaged fruit/vegetables', 'pasta', 'pastry', 'pet care', 'photo/film', 'pickled vegetables', 'pip fruit', 'popcorn', 'pork', 'pot plants', 'potato products', 'preservation products', 'processed cheese', 'prosecco', 'pudding powder', 'ready soups', 'red/blush wine', 'rice', 'roll products', 'rolls/buns', 'root vegetables', 'rubbing alcohol', 'rum', 'salad dressing', 'salt', 'salty snack', 'sauces', 'sausage', 'seasonal products', 'semi-finished bread', 'shopping bag', 'shopping bags', 'skin care', 'sliced cheese', 'snack products', 'soap', 'soda', 'soft cheese', 'softener', 'sound storage medium', 'soups', 'sparkling wine', 'specialty bar', 'specialty cheese', 'specialty chocolate', 'specialty fat', 'specialty vegetables', 'spices', 'spread cheese', 'sugar', 'sweet spreads', 'syrup', 'tea', 'tidbits', 'toilet cleaner', 'tropical fruit', 'turkey', 'vinegar', 'waffles', 'whipped/sour cream', 'whisky', 'white bread', 'white wine', 'whole milk', 'yogurt', 'zwieback']\n",
      "\n",
      "Count of Items :\n",
      "{'Instant food products': 79, 'UHT-milk': 329, 'abrasive cleaner': 35, 'artif. sweetener': 32, 'baby cosmetics': 6, 'baby food': 1, 'bags': 4, 'baking powder': 174, 'bathroom cleaner': 27, 'beef': 516, 'berries': 327, 'beverages': 256, 'bottled beer': 792, 'bottled water': 1087, 'brandy': 41, 'brown bread': 638, 'butter': 545, 'butter milk': 275, 'cake bar': 130, 'candles': 88, 'candy': 294, 'canned beer': 764, 'canned fish': 148, 'canned fruit': 32, 'canned vegetables': 106, 'cat food': 229, 'cereals': 56, 'chewing gum': 207, 'chicken': 422, 'chocolate': 488, 'chocolate marshmallow': 89, 'citrus fruit': 814, 'cleaner': 50, 'cling film/bags': 112, 'cocoa drinks': 22, 'coffee': 571, 'condensed milk': 101, 'cooking chocolate': 25, 'cookware': 27, 'cream': 13, 'cream cheese': 390, 'curd': 524, 'curd cheese': 50, 'decalcifier': 15, 'dental care': 57, 'dessert': 365, 'detergent': 189, 'dish cleaner': 103, 'dishes': 173, 'dog food': 84, 'domestic eggs': 624, 'female sanitary products': 60, 'finished products': 64, 'fish': 29, 'flour': 171, 'flower (seeds)': 102, 'flower soil/fertilizer': 19, 'frankfurter': 580, 'frozen chicken': 6, 'frozen dessert': 106, 'frozen fish': 115, 'frozen fruits': 12, 'frozen meals': 279, 'frozen potato products': 83, 'frozen vegetables': 473, 'fruit/vegetable juice': 711, 'grapes': 220, 'hair spray': 11, 'ham': 256, 'hamburger meat': 327, 'hard cheese': 241, 'herbs': 160, 'honey': 15, 'house keeping products': 82, 'hygiene articles': 324, 'ice cream': 246, 'instant coffee': 73, 'jam': 53, 'ketchup': 42, 'kitchen towels': 59, 'kitchen utensil': 4, 'light bulbs': 41, 'liqueur': 9, 'liquor': 109, 'liquor (appetizer)': 78, 'liver loaf': 50, 'long life bakery product': 368, 'make up remover': 8, 'male cosmetics': 45, 'margarine': 576, 'mayonnaise': 90, 'meat': 254, 'meat spreads': 42, 'misc. beverages': 279, 'mustard': 118, 'napkins': 515, 'newspapers': 785, 'nut snack': 31, 'nuts/prunes': 33, 'oil': 276, 'onions': 305, 'organic products': 16, 'organic sausage': 22, 'other vegetables': 1903, 'packaged fruit/vegetables': 128, 'pasta': 148, 'pastry': 875, 'pet care': 93, 'photo/film': 91, 'pickled vegetables': 176, 'pip fruit': 744, 'popcorn': 71, 'pork': 567, 'pot plants': 170, 'potato products': 28, 'preservation products': 2, 'processed cheese': 163, 'prosecco': 20, 'pudding powder': 23, 'ready soups': 18, 'red/blush wine': 189, 'rice': 75, 'roll products': 101, 'rolls/buns': 1809, 'root vegetables': 1072, 'rubbing alcohol': 10, 'rum': 44, 'salad dressing': 8, 'salt': 106, 'salty snack': 372, 'sauces': 54, 'sausage': 924, 'seasonal products': 140, 'semi-finished bread': 174, 'shopping bag': 1, 'shopping bags': 968, 'skin care': 35, 'sliced cheese': 241, 'snack products': 30, 'soap': 26, 'soda': 1715, 'soft cheese': 168, 'softener': 54, 'sound storage medium': 1, 'soups': 67, 'sparkling wine': 55, 'specialty bar': 269, 'specialty cheese': 84, 'specialty chocolate': 299, 'specialty fat': 36, 'specialty vegetables': 17, 'spices': 51, 'spread cheese': 110, 'sugar': 333, 'sweet spreads': 89, 'syrup': 32, 'tea': 38, 'tidbits': 23, 'toilet cleaner': 7, 'tropical fruit': 1032, 'turkey': 80, 'vinegar': 64, 'waffles': 378, 'whipped/sour cream': 705, 'whisky': 8, 'white bread': 414, 'white wine': 187, 'whole milk': 2513, 'yogurt': 1372, 'zwieback': 68}\n",
      "\n",
      "First Candidate Itemsets :\n",
      "{'beef': 516, 'bottled beer': 792, 'bottled water': 1087, 'brown bread': 638, 'butter': 545, 'canned beer': 764, 'citrus fruit': 814, 'coffee': 571, 'curd': 524, 'domestic eggs': 624, 'frankfurter': 580, 'fruit/vegetable juice': 711, 'margarine': 576, 'napkins': 515, 'newspapers': 785, 'other vegetables': 1903, 'pastry': 875, 'pip fruit': 744, 'pork': 567, 'rolls/buns': 1809, 'root vegetables': 1072, 'sausage': 924, 'shopping bags': 968, 'soda': 1715, 'tropical fruit': 1032, 'whipped/sour cream': 705, 'whole milk': 2513, 'yogurt': 1372}\n",
      "\n",
      "2-pair Candidate Itemsets :\n",
      "{('other vegetables', 'whole milk'): 736, ('rolls/buns', 'whole milk'): 557, ('whole milk', 'yogurt'): 551}\n",
      "\n",
      "No further Candidate Itemsets found with minimum support =  0.05\n",
      "\n",
      "Most associated items :  [('other vegetables', 'whole milk'), ('rolls/buns', 'whole milk'), ('whole milk', 'yogurt')]\n"
     ]
    }
   ],
   "source": [
    "market_basket_analysis(transactions, min_support=0.05)"
   ]
  }
 ],
 "metadata": {
  "kernelspec": {
   "display_name": "Python 3",
   "language": "python",
   "name": "python3"
  },
  "language_info": {
   "codemirror_mode": {
    "name": "ipython",
    "version": 3
   },
   "file_extension": ".py",
   "mimetype": "text/x-python",
   "name": "python",
   "nbconvert_exporter": "python",
   "pygments_lexer": "ipython3",
   "version": "3.8.5"
  }
 },
 "nbformat": 4,
 "nbformat_minor": 4
}
